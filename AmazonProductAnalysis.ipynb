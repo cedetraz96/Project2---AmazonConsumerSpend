{
 "cells": [
  {
   "cell_type": "code",
   "execution_count": 1,
   "metadata": {},
   "outputs": [],
   "source": [
    "# Dependencies\n",
    "import pandas as pd\n",
    "import numpy as np\n",
    "import matplotlib.pyplot as plt\n",
    "from sklearn.datasets import make_blobs\n",
    "from sklearn.cluster import KMeans\n",
    "from sklearn.decomposition import PCA\n",
    "from sklearn.preprocessing import StandardScaler\n",
    "from pathlib import Path"
   ]
  },
  {
   "cell_type": "code",
   "execution_count": null,
   "metadata": {},
   "outputs": [],
   "source": [
    "# Import Data\n",
    "amazon_data1 = Path('amazon_products.csv')\n",
    "amazon_data2 = Path('amazon_categories.csv')\n",
    "\n",
    "print(amazon_data1)\n",
    "print(amazon_data2)"
   ]
  },
  {
   "cell_type": "code",
   "execution_count": null,
   "metadata": {},
   "outputs": [],
   "source": [
    "# Read in the Amazon Products CSV as a DataFrame\n",
    "amazon_data1_df = pd.read_csv(amazon_data1)\n",
    "\n",
    "# Print the first 3 rows of the DataFrame\n",
    "display(amazon_data1_df.head(3))"
   ]
  },
  {
   "cell_type": "code",
   "execution_count": null,
   "metadata": {},
   "outputs": [],
   "source": [
    "# Read in the Amazon Categories CSV as a DataFrame\n",
    "amazon_data2_df = pd.read_csv(amazon_data2)\n",
    "\n",
    "# Print the first 3 rows of the DataFrame\n",
    "display(amazon_data2_df.head(5))"
   ]
  },
  {
   "cell_type": "code",
   "execution_count": null,
   "metadata": {},
   "outputs": [],
   "source": [
    "# Merge the Amazon Products and Amazon Categories DataFrames\n",
    "# Amazon Categories has column name 'id' and Amazon Products has column name 'category_id'\n",
    "# Merge on 'id' and 'category_id'\n",
    "amazon_data_merged_df = pd.merge(amazon_data1_df, amazon_data2_df, left_on='category_id', right_on='id')\n",
    "amazon_data_merged_df = amazon_data_merged_df.drop(columns=['id'])\n",
    "\n",
    "# Print the first and last 3 rows of the merged DataFrame\n",
    "display(amazon_data_merged_df.head(3))\n",
    "display(amazon_data_merged_df.tail(3))"
   ]
  },
  {
   "cell_type": "code",
   "execution_count": null,
   "metadata": {},
   "outputs": [],
   "source": [
    "# Print the info of the merged DataFrame\n",
    "amazon_data_merged_df.info()"
   ]
  },
  {
   "cell_type": "code",
   "execution_count": null,
   "metadata": {},
   "outputs": [],
   "source": [
    "# Clean the data\n",
    "\n",
    "# Check for null values\n",
    "display(amazon_data_merged_df.isnull().mean() * 100)\n",
    "\n",
    "# Drop any null values\n",
    "amazon_data_merged_df = amazon_data_merged_df.dropna()\n",
    "\n",
    "# Check for duplicates\n",
    "display(amazon_data_merged_df.duplicated().sum())\n",
    "\n",
    "# Drop any duplicates\n",
    "amazon_data_merged_df = amazon_data_merged_df.drop_duplicates()\n",
    "\n",
    "# Check the data types\n",
    "display(amazon_data_merged_df.dtypes)\n",
    "\n",
    "# Print first 3 rows of the Amazon Products DataFrame\n",
    "display(amazon_data_merged_df.head(3))"
   ]
  },
  {
   "cell_type": "code",
   "execution_count": null,
   "metadata": {},
   "outputs": [],
   "source": [
    "# Change 'asin' name to 'Product ID', 'title' to 'Product Desccription', 'stars' to 'Stars', \n",
    "# 'price' to 'Price', 'listPrice' to 'List Price', 'category_id' to 'Category ID', 'isBestSeller' to 'Best Seller',\n",
    "# 'boughtinLastMonth' to 'Bought Last Month', 'category_name' to 'Category Name'\n",
    "amazon_data_merged_df = amazon_data_merged_df.rename(columns={'asin': 'Product ID', \n",
    "                                                              'title': 'Product Description', \n",
    "                                                              'stars': 'Stars',\n",
    "                                                              'reviews': 'Reviews',\n",
    "                                                              'price': 'Price', \n",
    "                                                              'listPrice': 'List Price', \n",
    "                                                              'category_id': 'Category ID', \n",
    "                                                              'isBestSeller': 'Best Seller',\n",
    "                                                              'boughtInLastMonth': 'Product Volume',                                                         \n",
    "                                                              'category_name': 'Category Name'})\n",
    "\n",
    "# Print the first 3 rows of the merged DataFrame\n",
    "amazon_data_merged_df.head(3)"
   ]
  },
  {
   "cell_type": "code",
   "execution_count": null,
   "metadata": {},
   "outputs": [],
   "source": [
    "# Drop 'imgUrl', 'productURL' columns from Amazon Products DataFrame\n",
    "amazon_data_merged_df = amazon_data_merged_df.drop(columns=['imgUrl', 'productURL'])\n",
    "\n",
    "# Print first 3 rows of the Amazon Products DataFrame\n",
    "display(amazon_data_merged_df.head(3))"
   ]
  },
  {
   "cell_type": "code",
   "execution_count": 10,
   "metadata": {},
   "outputs": [],
   "source": [
    "# Drop Product ID and Category ID columns\n",
    "amazon_data_merged_df = amazon_data_merged_df.drop(columns=['Product ID', 'Category ID'])\n"
   ]
  },
  {
   "cell_type": "code",
   "execution_count": null,
   "metadata": {},
   "outputs": [],
   "source": [
    "# Change the column order\n",
    "amazon_data_merged_df = amazon_data_merged_df[['Category Name', 'Product Description', 'Price', 'List Price', 'Stars', 'Reviews', 'Best Seller', 'Product Volume']]\n",
    "\n",
    "# Print the first 3 rows of the merged DataFrame\n",
    "amazon_data_merged_df.head(3)"
   ]
  },
  {
   "cell_type": "code",
   "execution_count": null,
   "metadata": {},
   "outputs": [],
   "source": [
    "# Calculate the measures of central tendency of Price\n",
    "from scipy import stats\n",
    "\n",
    "mean_numpy = np.mean(amazon_data_merged_df[\"Price\"])\n",
    "median_numpy = np.median(amazon_data_merged_df[\"Price\"])\n",
    "mode_scipy = stats.mode(amazon_data_merged_df[\"Price\"])\n",
    "\n",
    "print(f\"The mean price of Amazon products is {mean_numpy}\")\n",
    "print(f\"The median price of Amazon products is {median_numpy}\")\n",
    "print(f\"The mode price of Amazon products is {mode_scipy}\")"
   ]
  },
  {
   "cell_type": "code",
   "execution_count": null,
   "metadata": {},
   "outputs": [],
   "source": [
    "# Check values for Price\n",
    "price_data = amazon_data_merged_df[\"Price\"].tolist()\n",
    "price_data"
   ]
  },
  {
   "cell_type": "code",
   "execution_count": null,
   "metadata": {},
   "outputs": [],
   "source": [
    "# Calculate the measures of central tendency of List Price\n",
    "mean_numpy = np.mean(amazon_data_merged_df[\"List Price\"])\n",
    "median_numpy = np.median(amazon_data_merged_df[\"List Price\"])\n",
    "mode_scipy = stats.mode(amazon_data_merged_df[\"List Price\"])\n",
    "\n",
    "print(f\"The mean list price of Amazon products is {mean_numpy}\")\n",
    "print(f\"The median list price of Amazon products is {median_numpy}\")\n",
    "print(f\"The mode list price of Amazon products is {mode_scipy}\")"
   ]
  },
  {
   "cell_type": "code",
   "execution_count": null,
   "metadata": {},
   "outputs": [],
   "source": [
    "# Check values for List Price\n",
    "list_price_data = amazon_data_merged_df[\"List Price\"].tolist()\n",
    "list_price_data"
   ]
  },
  {
   "cell_type": "code",
   "execution_count": null,
   "metadata": {},
   "outputs": [],
   "source": [
    "# Calculate the measures of central tendency of Stars\n",
    "mean_numpy = np.mean(amazon_data_merged_df[\"Stars\"])\n",
    "median_numpy = np.median(amazon_data_merged_df[\"Stars\"])\n",
    "mode_scipy = stats.mode(amazon_data_merged_df[\"Stars\"])\n",
    "\n",
    "print(f\"The mean stars of Amazon products is {mean_numpy}\")\n",
    "print(f\"The median stars of Amazon products is {median_numpy}\")\n",
    "print(f\"The mode stars of Amazon products is {mode_scipy}\")"
   ]
  },
  {
   "cell_type": "code",
   "execution_count": null,
   "metadata": {},
   "outputs": [],
   "source": [
    "# Calculate the measures of central tendency of Reviews\n",
    "mean_numpy = np.mean(amazon_data_merged_df[\"Reviews\"])\n",
    "median_numpy = np.median(amazon_data_merged_df[\"Reviews\"])\n",
    "mode_scipy = stats.mode(amazon_data_merged_df[\"Reviews\"])\n",
    "\n",
    "print(f\"The mean reviews of Amazon products is {mean_numpy}\")\n",
    "print(f\"The median reviews of Amazon products is {median_numpy}\")\n",
    "print(f\"The mode reviews of Amazon products is {mode_scipy}\")"
   ]
  },
  {
   "cell_type": "code",
   "execution_count": null,
   "metadata": {},
   "outputs": [],
   "source": [
    "# Check values for Reviews\n",
    "reviews_data = amazon_data_merged_df[\"Reviews\"].tolist()\n",
    "reviews_data"
   ]
  },
  {
   "cell_type": "code",
   "execution_count": null,
   "metadata": {},
   "outputs": [],
   "source": [
    "# Calculate the measures of central tendency of Product Volume\n",
    "mean_numpy = np.mean(amazon_data_merged_df[\"Product Volume\"])\n",
    "median_numpy = np.median(amazon_data_merged_df[\"Product Volume\"])\n",
    "mode_scipy = stats.mode(amazon_data_merged_df[\"Product Volume\"])\n",
    "\n",
    "print(f\"The mean product volume of Amazon products is {mean_numpy}\")\n",
    "print(f\"The median product volume of Amazon products is {median_numpy}\")\n",
    "print(f\"The mode product volume of Amazon products is {mode_scipy}\")"
   ]
  },
  {
   "cell_type": "code",
   "execution_count": null,
   "metadata": {},
   "outputs": [],
   "source": [
    "# Check values for Product Volume\n",
    "product_volume_data = amazon_data_merged_df[\"Product Volume\"].tolist()\n",
    "product_volume_data"
   ]
  },
  {
   "cell_type": "code",
   "execution_count": null,
   "metadata": {},
   "outputs": [],
   "source": [
    "# Calculate variance and standard deviation for Price\n",
    "variance = np.var(amazon_data_merged_df[\"Price\"])\n",
    "print(f\"The variance of Amazon products is {variance}\")\n",
    "\n",
    "standard_deviation = np.std(amazon_data_merged_df[\"Price\"])\n",
    "print(f\"The standard deviation of Amazon products is {standard_deviation}\")"
   ]
  },
  {
   "cell_type": "code",
   "execution_count": null,
   "metadata": {},
   "outputs": [],
   "source": [
    "# Calculate variance and standard deviation for List Price\n",
    "variance = np.var(amazon_data_merged_df[\"List Price\"])\n",
    "print(f\"The variance of Amazon products is {variance}\")\n",
    "\n",
    "standard_deviation = np.std(amazon_data_merged_df[\"List Price\"])\n",
    "print(f\"The standard deviation of Amazon products is {standard_deviation}\")"
   ]
  },
  {
   "cell_type": "code",
   "execution_count": null,
   "metadata": {},
   "outputs": [],
   "source": [
    "# Calculate variance and standard deviation for Stars\n",
    "variance = np.var(amazon_data_merged_df[\"Stars\"])\n",
    "print(f\"The variance of Amazon products is {variance}\")\n",
    "\n",
    "standard_deviation = np.std(amazon_data_merged_df[\"Stars\"])\n",
    "print(f\"The standard deviation of Amazon products is {standard_deviation}\")"
   ]
  },
  {
   "cell_type": "code",
   "execution_count": null,
   "metadata": {},
   "outputs": [],
   "source": [
    "# Calculate variance and standard deviation for Reviews\n",
    "variance = np.var(amazon_data_merged_df[\"Reviews\"])\n",
    "print(f\"The variance of Amazon products is {variance}\")\n",
    "\n",
    "standard_deviation = np.std(amazon_data_merged_df[\"Reviews\"])\n",
    "print(f\"The standard deviation of Amazon products is {standard_deviation}\")"
   ]
  },
  {
   "cell_type": "code",
   "execution_count": null,
   "metadata": {},
   "outputs": [],
   "source": [
    "# Calculate variance and standard deviation for Product Volume\n",
    "variance = np.var(amazon_data_merged_df[\"Product Volume\"])\n",
    "print(f\"The variance of Amazon products is {variance}\")\n",
    "\n",
    "standard_deviation = np.std(amazon_data_merged_df[\"Product Volume\"])\n",
    "print(f\"The standard deviation of Amazon products is {standard_deviation}\")"
   ]
  },
  {
   "cell_type": "code",
   "execution_count": null,
   "metadata": {},
   "outputs": [],
   "source": [
    "# Find potential outliers by the interquartile range (IQR) for Price\n",
    "Q1 = amazon_data_merged_df[\"Price\"].quantile(0.25)\n",
    "median = amazon_data_merged_df[\"Price\"].quantile(0.5)\n",
    "Q3 = amazon_data_merged_df[\"Price\"].quantile(0.75)\n",
    "IQR = Q3 - Q1\n",
    "\n",
    "print(f\"The lower quartile of the Price column is: {Q1}\")\n",
    "print(f\"The upper quartile of the Price column is: {Q3}\")\n",
    "print(f\"The interquartile range of the Price column is: {IQR}\")\n",
    "print(f\"The median of the Price column is: {median}\")\n",
    "\n",
    "# Determine potential outliers for Price\n",
    "lower_bound = Q1 - (1.5 * IQR)\n",
    "upper_bound = Q3 + (1.5 * IQR)\n",
    "print(f\"Values below {lower_bound} could be outliers for Price.\")\n",
    "print(f\"Values above {upper_bound} could be outliers for Price.\")\n",
    "\n"
   ]
  },
  {
   "cell_type": "code",
   "execution_count": null,
   "metadata": {},
   "outputs": [],
   "source": [
    "# Find potential outliers by the interquartile range (IQR) List Price\n",
    "Q1 = amazon_data_merged_df[\"List Price\"].quantile(0.25)\n",
    "median = amazon_data_merged_df[\"List Price\"].quantile(0.5)\n",
    "Q3 = amazon_data_merged_df[\"List Price\"].quantile(0.75)\n",
    "IQR = Q3 - Q1\n",
    "\n",
    "print(f\"The lower quartile of the List Price column is: {Q1}\")\n",
    "print(f\"The upper quartile of the List Price column is: {Q3}\")\n",
    "print(f\"The interquartile range of the List Price column is: {IQR}\")\n",
    "\n",
    "# Determine potential outliers for List Price\n",
    "lower_bound = Q1 - (1.5 * IQR)\n",
    "upper_bound = Q3 + (1.5 * IQR)\n",
    "print(f\"Values below {lower_bound} could be outliers for List Price.\")\n",
    "print(f\"Values above {upper_bound} could be outliers for List Price.\")"
   ]
  },
  {
   "cell_type": "code",
   "execution_count": null,
   "metadata": {},
   "outputs": [],
   "source": [
    "# Find potential outliers by the interquartile range (IQR) Stars\n",
    "Q1 = amazon_data_merged_df[\"Stars\"].quantile(0.25)\n",
    "median = amazon_data_merged_df[\"Stars\"].quantile(0.5)\n",
    "Q3 = amazon_data_merged_df[\"Stars\"].quantile(0.75)\n",
    "IQR = Q3 - Q1\n",
    "\n",
    "print(f\"The lower quartile of the Stars column is: {Q1}\")\n",
    "print(f\"The upper quartile of the Stars column is: {Q3}\")\n",
    "print(f\"The interquartile range of the Stars column is: {IQR}\")\n",
    "\n",
    "# Determine potential outliers for Stars\n",
    "lower_bound = Q1 - (1.5 * IQR)\n",
    "upper_bound = Q3 + (1.5 * IQR)\n",
    "print(f\"Values below {lower_bound} could be outliers for Stars.\")\n",
    "print(f\"Values above {upper_bound} could be outliers for Stars.\")"
   ]
  },
  {
   "cell_type": "code",
   "execution_count": null,
   "metadata": {},
   "outputs": [],
   "source": [
    "# Find potential outliers by the interquartile range (IQR) Reviews\n",
    "Q1 = amazon_data_merged_df[\"Reviews\"].quantile(0.25)\n",
    "median = amazon_data_merged_df[\"Reviews\"].quantile(0.5)\n",
    "Q3 = amazon_data_merged_df[\"Reviews\"].quantile(0.75)\n",
    "IQR = Q3 - Q1\n",
    "\n",
    "print(f\"The lower quartile of the Reviews column is: {Q1}\")\n",
    "print(f\"The upper quartile of the Reviews column is: {Q3}\")\n",
    "print(f\"The interquartile range of the Reviews column is: {IQR}\")\n",
    "\n",
    "# Determine potential outliers for Reviews\n",
    "lower_bound = Q1 - (1.5 * IQR)\n",
    "upper_bound = Q3 + (1.5 * IQR)\n",
    "print(f\"Values below {lower_bound} could be outliers for Reviews.\")\n",
    "print(f\"Values above {upper_bound} could be outliers for Reviews.\")"
   ]
  },
  {
   "cell_type": "code",
   "execution_count": null,
   "metadata": {},
   "outputs": [],
   "source": [
    "# Find potential outliers by the interquartile range (IQR) Product Volume\n",
    "Q1 = amazon_data_merged_df[\"Product Volume\"].quantile(0.25)\n",
    "median = amazon_data_merged_df[\"Product Volume\"].quantile(0.5)\n",
    "Q3 = amazon_data_merged_df[\"Product Volume\"].quantile(0.75)\n",
    "IQR = Q3 - Q1\n",
    "\n",
    "print(f\"The lower quartile of the Product Volume column is: {Q1}\")\n",
    "print(f\"The upper quartile of the Product Volume column is: {Q3}\")\n",
    "print(f\"The interquartile range of the Product Volume column is: {IQR}\")\n",
    "\n",
    "# Determine potential outliers for Product Volume\n",
    "lower_bound = Q1 - (1.5 * IQR)\n",
    "upper_bound = Q3 + (1.5 * IQR)\n",
    "print(f\"Values below {lower_bound} could be outliers for Product Volume.\")\n",
    "print(f\"Values above {upper_bound} could be outliers for Product Volume.\")"
   ]
  },
  {
   "cell_type": "code",
   "execution_count": null,
   "metadata": {},
   "outputs": [],
   "source": [
    "# Summary statistics for Best Seller\n",
    "best_seller_summary = amazon_data_merged_df[\"Best Seller\"].value_counts()\n",
    "print(\"Summary Statistics for Best Seller:\")\n",
    "print(best_seller_summary)"
   ]
  },
  {
   "cell_type": "code",
   "execution_count": null,
   "metadata": {},
   "outputs": [],
   "source": [
    "# Summary statistics for Category Name\n",
    "category_name_summary = amazon_data_merged_df[\"Category Name\"].value_counts()\n",
    "print(\"Summary Statistics for Category Name:\")\n",
    "print(category_name_summary)"
   ]
  },
  {
   "cell_type": "code",
   "execution_count": null,
   "metadata": {},
   "outputs": [],
   "source": [
    "# Summary statistics for Product Description\n",
    "product_description_summary = amazon_data_merged_df[\"Product Description\"].value_counts()\n",
    "print(\"Summary Statistics for Product Description:\")"
   ]
  },
  {
   "cell_type": "code",
   "execution_count": null,
   "metadata": {},
   "outputs": [],
   "source": [
    "product_description_summary = pd.DataFrame(product_description_summary)\n",
    "product_description_summary.head(3)"
   ]
  }
 ],
 "metadata": {
  "kernelspec": {
   "display_name": "dev",
   "language": "python",
   "name": "python3"
  },
  "language_info": {
   "codemirror_mode": {
    "name": "ipython",
    "version": 3
   },
   "file_extension": ".py",
   "mimetype": "text/x-python",
   "name": "python",
   "nbconvert_exporter": "python",
   "pygments_lexer": "ipython3",
   "version": "3.10.13"
  }
 },
 "nbformat": 4,
 "nbformat_minor": 2
}
