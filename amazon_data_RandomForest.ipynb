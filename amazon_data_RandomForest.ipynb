{
 "cells": [
  {
   "cell_type": "code",
   "execution_count": 153,
   "metadata": {},
   "outputs": [],
   "source": [
    "# Dependencies\n",
    "import pandas as pd\n",
    "import numpy as np\n",
    "from sklearn.metrics import accuracy_score\n",
    "from sklearn.preprocessing import StandardScaler\n",
    "from sklearn.preprocessing import LabelEncoder\n",
    "from sklearn.model_selection import train_test_split\n",
    "from sklearn.ensemble import RandomForestClassifier\n",
    "from sklearn.metrics import mean_squared_error, r2_score\n",
    "from sklearn.metrics import accuracy_score\n",
    "from pathlib import Path"
   ]
  },
  {
   "cell_type": "code",
   "execution_count": null,
   "metadata": {},
   "outputs": [],
   "source": [
    "# Import data\n",
    "amazon_data = Path('C:/Users/cedet/OneDrive/Desktop/amazon_data_cleaned1.csv')\n",
    "\n",
    "print(amazon_data)"
   ]
  },
  {
   "cell_type": "code",
   "execution_count": null,
   "metadata": {},
   "outputs": [],
   "source": [
    "# Read in data\n",
    "amazon_df = pd.read_csv(amazon_data)\n",
    "\n",
    "# Display the first 3 rows of the dataframe\n",
    "display(amazon_df.head(3))"
   ]
  },
  {
   "cell_type": "code",
   "execution_count": null,
   "metadata": {},
   "outputs": [],
   "source": [
    "amazon_df.dtypes"
   ]
  },
  {
   "cell_type": "code",
   "execution_count": 157,
   "metadata": {},
   "outputs": [],
   "source": [
    "# Define thresholds for categorizing star ratings\n",
    "thresholds = [1.9, 2.9, 3.9, 4.9]\n",
    "\n",
    "# Function to map star ratings to categories\n",
    "def map_to_category(star_rating):\n",
    "    if star_rating <= thresholds[0]:\n",
    "        return 'Category 1'\n",
    "    elif star_rating <= thresholds[1]:\n",
    "        return 'Category 2'\n",
    "    elif star_rating <= thresholds[2]:\n",
    "        return 'Category 3'\n",
    "    elif star_rating <= thresholds[3]:\n",
    "        return 'Category 4'\n",
    "    else:\n",
    "        return 'Category 5'"
   ]
  },
  {
   "cell_type": "code",
   "execution_count": 158,
   "metadata": {},
   "outputs": [],
   "source": [
    "# Apply mapping to Stars column\n",
    "amazon_df['Stars'] = amazon_df['Stars'].apply(map_to_category)"
   ]
  },
  {
   "cell_type": "code",
   "execution_count": 159,
   "metadata": {},
   "outputs": [],
   "source": [
    "# Encode categorical variables\n",
    "label_encoder = LabelEncoder()\n",
    "\n",
    "amazon_df['Category Name'] = label_encoder.fit_transform(amazon_df['Category Name'])\n",
    "amazon_df['Product Description'] = label_encoder.fit_transform(amazon_df['Product Description'])\n",
    "amazon_df['Best Seller'] = label_encoder.fit_transform(amazon_df['Best Seller'])\n",
    "amazon_df['Stars'] = label_encoder.fit_transform(amazon_df['Stars'])\n"
   ]
  },
  {
   "cell_type": "code",
   "execution_count": 160,
   "metadata": {},
   "outputs": [],
   "source": [
    "# Define features and target variable\n",
    "X = amazon_df[[\"Category Name\", \"Product Description\", \"Price\", \"Best Seller\", \"Product Volume\", \"Total Spend\"]]\n",
    "y = amazon_df[\"Stars\"]"
   ]
  },
  {
   "cell_type": "code",
   "execution_count": 161,
   "metadata": {},
   "outputs": [],
   "source": [
    "# Split the data into training and testing sets\n",
    "X_train, X_test, y_train, y_test = train_test_split(X, y, random_state=78)"
   ]
  },
  {
   "cell_type": "code",
   "execution_count": null,
   "metadata": {},
   "outputs": [],
   "source": [
    "# Initialize and fit the Random Forest Classifier model\n",
    "rf_model = RandomForestClassifier(n_estimators=128, random_state=78)\n",
    "rf_model.fit(X_train, y_train)"
   ]
  },
  {
   "cell_type": "code",
   "execution_count": 163,
   "metadata": {},
   "outputs": [],
   "source": [
    "# Fit the model\n",
    "rf_model = rf_model.fit(X_train, y_train)"
   ]
  },
  {
   "cell_type": "code",
   "execution_count": null,
   "metadata": {},
   "outputs": [],
   "source": [
    "# Calculate the accuracy score\n",
    "accuracy_score = accuracy_score(y_test, rf_model.predict(X_test))\n",
    "\n",
    "# Display the accuracy score\n",
    "print(f\"Accuracy Score : {accuracy_score}\")"
   ]
  }
 ],
 "metadata": {
  "kernelspec": {
   "display_name": "dev",
   "language": "python",
   "name": "python3"
  },
  "language_info": {
   "codemirror_mode": {
    "name": "ipython",
    "version": 3
   },
   "file_extension": ".py",
   "mimetype": "text/x-python",
   "name": "python",
   "nbconvert_exporter": "python",
   "pygments_lexer": "ipython3",
   "version": "3.10.13"
  }
 },
 "nbformat": 4,
 "nbformat_minor": 2
}
