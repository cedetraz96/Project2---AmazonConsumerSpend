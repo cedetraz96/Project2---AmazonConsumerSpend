{
 "cells": [
  {
   "cell_type": "code",
   "execution_count": 114,
   "metadata": {},
   "outputs": [],
   "source": [
    "# Dependencies\n",
    "import pandas as pd\n",
    "import numpy as np\n",
    "from sklearn.linear_model import LinearRegression\n",
    "from sklearn.preprocessing import LabelEncoder\n",
    "from sklearn.model_selection import train_test_split\n",
    "from sklearn.metrics import mean_squared_error, r2_score\n",
    "from pathlib import Path"
   ]
  },
  {
   "cell_type": "code",
   "execution_count": null,
   "metadata": {},
   "outputs": [],
   "source": [
    "# Import data\n",
    "amazon_data = Path('C:/Users/cedet/OneDrive/Desktop/amazon_data_cleaned1.csv')\n",
    "\n",
    "print(amazon_data)"
   ]
  },
  {
   "cell_type": "code",
   "execution_count": null,
   "metadata": {},
   "outputs": [],
   "source": [
    "# Read in data\n",
    "amazon_df = pd.read_csv(amazon_data)\n",
    "\n",
    "# Display the first 3 rows of the dataframe\n",
    "display(amazon_df.head(3))"
   ]
  },
  {
   "cell_type": "code",
   "execution_count": null,
   "metadata": {},
   "outputs": [],
   "source": [
    "amazon_df.dtypes"
   ]
  },
  {
   "cell_type": "code",
   "execution_count": 118,
   "metadata": {},
   "outputs": [],
   "source": [
    "# Initialize LabelEncoder\n",
    "label_encoder = LabelEncoder()\n",
    "\n",
    "# Apply Label Encoding to the specified columns\n",
    "amazon_df['Category Name'] = label_encoder.fit_transform(amazon_df['Category Name'])\n",
    "amazon_df['Product Description'] = label_encoder.fit_transform(amazon_df['Product Description'])\n",
    "amazon_df['Best Seller'] = label_encoder.fit_transform(amazon_df['Best Seller'])\n"
   ]
  },
  {
   "cell_type": "code",
   "execution_count": null,
   "metadata": {},
   "outputs": [],
   "source": [
    "# Create the X set by using the `reshape` function to format the Best Seller data as a single column array.\n",
    "X = amazon_df[[\"Category Name\", \"Product Description\", \"Price\",\n",
    "                                \"Stars\", \"Product Volume\", \"Total Spend\"]].values\n",
    "# Display sample data\n",
    "X[:2]"
   ]
  },
  {
   "cell_type": "code",
   "execution_count": 120,
   "metadata": {},
   "outputs": [],
   "source": [
    "# Create an array for the dependent variable y with the Stars\n",
    "y = amazon_df[\"Best Seller\"]"
   ]
  },
  {
   "cell_type": "code",
   "execution_count": 121,
   "metadata": {},
   "outputs": [],
   "source": [
    "# Split the data into training and testing sets\n",
    "X_train, X_test, y_train, y_test = train_test_split(X, y, test_size=0.2, random_state=42)"
   ]
  },
  {
   "cell_type": "code",
   "execution_count": 122,
   "metadata": {},
   "outputs": [],
   "source": [
    "# Create a Linear Regression mode\n",
    "model = LinearRegression()"
   ]
  },
  {
   "cell_type": "code",
   "execution_count": 123,
   "metadata": {},
   "outputs": [],
   "source": [
    "# Fit the model to the training data and calculate the scores for the training and testing data\n",
    "model = model.fit(X_train, y_train)"
   ]
  },
  {
   "cell_type": "code",
   "execution_count": 124,
   "metadata": {},
   "outputs": [],
   "source": [
    "# Predict on the test set\n",
    "predictions = model.predict(X_test)"
   ]
  },
  {
   "cell_type": "code",
   "execution_count": null,
   "metadata": {},
   "outputs": [],
   "source": [
    "# Create a copy of the original data\n",
    "amazon_df_with_predictions = amazon_df.copy()\n",
    "\n",
    "# Add a new column of predictions to the dataframe\n",
    "amazon_df_with_predictions[\"Stars Predictions\"] = model.predict(X)\n",
    "\n",
    "# Display the first 3 rows of the dataframe\n",
    "display(amazon_df_with_predictions.head(3))"
   ]
  },
  {
   "cell_type": "code",
   "execution_count": null,
   "metadata": {},
   "outputs": [],
   "source": [
    "# Calculate the mean_squared_error (MSE) on actual versus predicted test \"y\"\n",
    "score = round(model.score(X_test, y_test)*100,2)\n",
    "r2 = round(r2_score(y_test, predictions)*100,2)\n",
    "mse = round(mean_squared_error(y_test, predictions),2)\n",
    "rmse = round(np.sqrt(mse),2)\n",
    "\n",
    "# Print the score, r2, mse, and rmse\n",
    "print(f\"The score is {score}.\")\n",
    "print(f\"The r2 is {r2}.\")\n",
    "print(f\"The mean squared error is {mse}.\")\n",
    "print(f\"The root mean squared error is {rmse}.\")"
   ]
  }
 ],
 "metadata": {
  "kernelspec": {
   "display_name": "dev",
   "language": "python",
   "name": "python3"
  },
  "language_info": {
   "codemirror_mode": {
    "name": "ipython",
    "version": 3
   },
   "file_extension": ".py",
   "mimetype": "text/x-python",
   "name": "python",
   "nbconvert_exporter": "python",
   "pygments_lexer": "ipython3",
   "version": "3.10.13"
  }
 },
 "nbformat": 4,
 "nbformat_minor": 2
}
